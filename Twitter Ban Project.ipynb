{
 "cells": [
  {
   "cell_type": "code",
   "execution_count": 237,
   "id": "01824dfb",
   "metadata": {},
   "outputs": [],
   "source": [
    "import findspark\n",
    "findspark.init()\n",
    "\n",
    "import pyspark\n",
    "from pyspark.sql import SparkSession"
   ]
  },
  {
   "cell_type": "code",
   "execution_count": 238,
   "id": "a034c233",
   "metadata": {},
   "outputs": [],
   "source": [
    "spark = SparkSession \\\n",
    "    .builder \\\n",
    "    .appName(\"Twitter Ban Project\") \\\n",
    "    .getOrCreate()"
   ]
  },
  {
   "cell_type": "markdown",
   "id": "f9880f48",
   "metadata": {},
   "source": [
    "# Data\n",
    "### Load Data"
   ]
  },
  {
   "cell_type": "code",
   "execution_count": 253,
   "id": "c41a39f0",
   "metadata": {},
   "outputs": [
    {
     "data": {
      "text/plain": [
       "6810"
      ]
     },
     "execution_count": 253,
     "metadata": {},
     "output_type": "execute_result"
    }
   ],
   "source": [
    "df = spark.read.csv(\"tweets/tweetIDs-post-ban.csv\", header=True)\n",
    "df.count()"
   ]
  },
  {
   "cell_type": "markdown",
   "id": "b2624bb7",
   "metadata": {},
   "source": [
    "### Remove empty tweets"
   ]
  },
  {
   "cell_type": "code",
   "execution_count": 252,
   "id": "6b79c241",
   "metadata": {},
   "outputs": [
    {
     "data": {
      "text/plain": [
       "4236"
      ]
     },
     "execution_count": 252,
     "metadata": {},
     "output_type": "execute_result"
    }
   ],
   "source": [
    "# Remove tweets with empty text fields\n",
    "tweetRaw = df.filter(df.text != '')\n",
    "tweetRaw.count()\n",
    "# test = tweetRaw.take(5)\n",
    "# for i in range(5):\n",
    "#     print(test[i].__getattr__(\"text\"))"
   ]
  },
  {
   "cell_type": "markdown",
   "id": "f1caaa54",
   "metadata": {},
   "source": [
    "## Helper Functions"
   ]
  },
  {
   "cell_type": "markdown",
   "id": "7a6d5738",
   "metadata": {},
   "source": [
    "### formatText"
   ]
  },
  {
   "cell_type": "code",
   "execution_count": 250,
   "id": "959ca6df",
   "metadata": {},
   "outputs": [],
   "source": [
    "import re\n",
    "\n",
    "# Take in a string containing a tweet's text and return a list of the words in the tweet\n",
    "def formatText(text):\n",
    "    #text = row.__getattr__(\"text\")\n",
    "    if isinstance(text, type(str)):\n",
    "\n",
    "        # Remove Everything but letters, numbers, and whitespace\n",
    "        text = re.sub(r'[^\\w\\s]', '', text) \n",
    "        textList = text.split(' ')\n",
    "                \n",
    "        # Remove RT prefix \n",
    "        if 'RT' in textList:\n",
    "            textList.remove('RT')\n",
    "        \n",
    "        # Remove empty elements\n",
    "        while '' in textList:\n",
    "            textList.remove('') \n",
    "    else:\n",
    "        textList = []\n",
    "    \n",
    "    # print(textList)\n",
    "    return textList \n",
    "    "
   ]
  },
  {
   "cell_type": "code",
   "execution_count": 242,
   "id": "f56d53a0",
   "metadata": {},
   "outputs": [],
   "source": [
    "def formatHashtags(htgs):\n",
    "    # Does nothing yet\n",
    "    return htgs"
   ]
  },
  {
   "cell_type": "markdown",
   "id": "a03b257d",
   "metadata": {},
   "source": [
    "### IsViolent"
   ]
  },
  {
   "cell_type": "code",
   "execution_count": 243,
   "id": "53a9fd6d",
   "metadata": {},
   "outputs": [],
   "source": [
    "# Determine if a tweet's text is violent\n",
    "def isViolent(text):\n",
    "    isViolent = False\n",
    "    words = formatText(text)\n",
    "    return isViolent\n",
    "    "
   ]
  },
  {
   "cell_type": "markdown",
   "id": "e3afc31c",
   "metadata": {},
   "source": [
    "# Analysis\n",
    "### Map for violent Tweets"
   ]
  },
  {
   "cell_type": "code",
   "execution_count": 251,
   "id": "fbba252c",
   "metadata": {
    "scrolled": true
   },
   "outputs": [
    {
     "name": "stdout",
     "output_type": "stream",
     "text": [
      "['VicToensing', 'Can', 'you', 'believe', 'that', 'SpeakerPelosi', 'tweeted', 'that', 'realDonaldTrump', 'should', 'end', 'demanding', 'that', 'Iran', 'cease', 'its', 'violence', 'Re']\n",
      "+--------------------+--------------------+---------+\n",
      "|            hashtags|                text|isViolent|\n",
      "+--------------------+--------------------+---------+\n",
      "|                null|[VicToensing, Can...|    false|\n",
      "|                null|[CindyKendrick11,...|    false|\n",
      "|                null|[NapsyLev, Andrew...|    false|\n",
      "|           Irán Irak|[realDonaldTrump,...|    false|\n",
      "|       NoWarWithIran|   [MoveOn, TONIGHT]|    false|\n",
      "|                null|[tiffany_caban, W...|    false|\n",
      "|                null|[RepMullin, I, ju...|    false|\n",
      "|                null|[IlhanMN, The, Tr...|    false|\n",
      "|                null|[TeamWarren, This...|    false|\n",
      "|                null|[Take, it, from, ...|    false|\n",
      "|                null|[Judicial, Watch,...|    false|\n",
      "|                null|[WalshFreedom, jo...|    false|\n",
      "|                null|[gtconway3d, Many...|    false|\n",
      "|                null|[thedoggeneral1, ...|    false|\n",
      "|                null|[lynnekodonnell, ...|    false|\n",
      "|                null|[wendyrsherman, A...|    false|\n",
      "|trump gop maga im...|[War, With, Iran,...|    false|\n",
      "|                null|[KellyO, A, third...|    false|\n",
      "|                null|[LeeHolly81, real...|    false|\n",
      "|      MedicareForALL|[troyrudd, JoeBid...|    false|\n",
      "+--------------------+--------------------+---------+\n",
      "only showing top 20 rows\n",
      "\n"
     ]
    }
   ],
   "source": [
    "rdd = tweetRaw.rdd.map(lambda row:\n",
    "    (row.__getattr__(\"hashtags\"), formatText(row.__getattr__(\"text\")), isViolent(row.__getattr__(\"text\")))\n",
    "    )\n",
    "\n",
    "tweets = rdd.toDF([\"hashtags\", \"text\", \"isViolent\"])\n",
    "first = tweets.first()\n",
    "print(first.__getattr__(\"text\"))\n",
    "tweets.show()"
   ]
  },
  {
   "cell_type": "markdown",
   "id": "43f1ed52",
   "metadata": {},
   "source": [
    "### Check text format"
   ]
  },
  {
   "cell_type": "code",
   "execution_count": 245,
   "id": "e58be1b8",
   "metadata": {},
   "outputs": [
    {
     "name": "stdout",
     "output_type": "stream",
     "text": [
      "['RT', 'VicToensing', 'Can', 'you', 'believe', 'that', 'SpeakerPelosi', 'tweeted', 'that', 'realDonaldTrump', 'should', 'end', 'demanding', 'that', 'Iran', 'cease', 'its', 'violence', 'Re']\n",
      "['RT', 'CindyKendrick11', 'POS']\n",
      "['NapsyLev', 'AndrewYang', 'httpstcow5Zt3TNUme']\n",
      "['realDonaldTrump', 'anunció', 'nuevas', 'sanciones', 'económicas', 'poderosas', 'contra', 'Irán']\n",
      "['RT', 'MoveOn', 'TONIGHT']\n"
     ]
    }
   ],
   "source": [
    "records = tweets.take(5)\n",
    "for i in range(5):\n",
    "    print(records[i].__getattr__(\"text\"))"
   ]
  }
 ],
 "metadata": {
  "kernelspec": {
   "display_name": "Python 3",
   "language": "python",
   "name": "python3"
  },
  "language_info": {
   "codemirror_mode": {
    "name": "ipython",
    "version": 3
   },
   "file_extension": ".py",
   "mimetype": "text/x-python",
   "name": "python",
   "nbconvert_exporter": "python",
   "pygments_lexer": "ipython3",
   "version": "3.8.0"
  }
 },
 "nbformat": 4,
 "nbformat_minor": 5
}
